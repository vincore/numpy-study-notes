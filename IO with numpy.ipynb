{
 "cells": [
  {
   "cell_type": "code",
   "execution_count": 3,
   "metadata": {},
   "outputs": [
    {
     "name": "stdout",
     "output_type": "stream",
     "text": [
      "[1. 2. 3. 4.]\n",
      "[1 7]\n"
     ]
    }
   ],
   "source": [
    "import numpy as np\n",
    "a = np.array([1,2,3,4],dtype=np.float)\n",
    "print(a)\n",
    "b = np.arange(1,10,6)\n",
    "print(b)\n"
   ]
  },
  {
   "cell_type": "code",
   "execution_count": 3,
   "metadata": {},
   "outputs": [
    {
     "name": "stdout",
     "output_type": "stream",
     "text": [
      "delimiter(1):\n",
      " [[1. 2. 3.]\n",
      " [4. 5. 6.]]\n",
      "delimiter(2):\n",
      " [[  1.   2.   3.]\n",
      " [  4.   5.   6.]\n",
      " [890. 123.   4.]]\n",
      "delimiter(3):\n",
      " [[1234.  567.   89.]\n",
      " [   4.    7.    9.]\n",
      " [   4.  567.    9.]]\n"
     ]
    }
   ],
   "source": [
    "#(1)importing data with genformtxt\n",
    "import numpy as np\n",
    "from io import BytesIO\n",
    "\n",
    "#genfromtxt\n",
    "#该函数运行两个loop，第一个loop将文件的每一行作为一个string序列，第二loop转换string到恰当的数据类型\n",
    "#该函数还会将缺失的数据考虑在内，而其他的快速和简单的函数不考虑缺失的数据，如loadtxt函数\n",
    "\n",
    "#defining the input\n",
    "\n",
    "#delimiter 参数，用于确定如何分割\n",
    "data = b\"1,2,3\\n4,5,6\"\n",
    "a = np.genfromtxt(BytesIO(data),delimiter=',')#单引号中是分隔符\n",
    "print(\"delimiter(1):\\n\",a)\n",
    "\n",
    "data = b\"  1  2  3\\n  4 5  6\\n890123  4\"\n",
    "a = np.genfromtxt(BytesIO(data),delimiter=3)#处理固定长度的文件，这里是用宽度为3,每三个字符为一个进行分割\n",
    "print(\"delimiter(2):\\n\",a)\n",
    "\n",
    "data = b\"123456789\\n   4  7 9\\n   4567 9\"\n",
    "a = np.genfromtxt(BytesIO(data),delimiter=(4,3,2))#分割成三个部分，每个部分的宽度是4,3，2\n",
    "print(\"delimiter(3):\\n\",a)\n"
   ]
  },
  {
   "cell_type": "code",
   "execution_count": 22,
   "metadata": {},
   "outputs": [
    {
     "name": "stdout",
     "output_type": "stream",
     "text": [
      "no autostrip:\n",
      " [['1' ' abc ' ' 2']\n",
      " ['3' ' xxx' ' 4']]\n",
      "with autostrip:\n",
      " [['1' 'abc' '2']\n",
      " ['3' 'xxx' '4']]\n"
     ]
    }
   ],
   "source": [
    "import numpy as np\n",
    "from io import BytesIO\n",
    "\n",
    "#autostrip 参数,用于跳过开头的空格，该参数的值为True / False\n",
    "data = b\"1, abc , 2\\n 3, xxx, 4\"\n",
    "# Without autostrip\n",
    "a = np.genfromtxt(BytesIO(data), delimiter=\",\", dtype=\"|U5\")\n",
    "print(\"no autostrip:\\n\",a)\n",
    "\n",
    "# With autostrip\n",
    "a = np.genfromtxt(BytesIO(data), delimiter=\",\", dtype=\"|U5\",autostrip=True)\n",
    "print(\"with autostrip:\\n\",a)\n"
   ]
  },
  {
   "cell_type": "code",
   "execution_count": 23,
   "metadata": {},
   "outputs": [
    {
     "name": "stdout",
     "output_type": "stream",
     "text": [
      "comments:\n",
      " [[1. 2.]\n",
      " [3. 4.]\n",
      " [5. 6.]\n",
      " [7. 8.]\n",
      " [9. 0.]]\n"
     ]
    }
   ],
   "source": [
    "#comments参数，用于忽略该参数值后面的内容\n",
    "data = b\"\"\"#\n",
    "# Skip me !\n",
    "# Skip me too !\n",
    "1, 2\n",
    "3, 4\n",
    "5, 6 #This is the third line of the data\n",
    "7, 8\n",
    "# And here comes the last line\n",
    "9, 0\n",
    "\"\"\"\n",
    "a = np.genfromtxt(BytesIO(data), comments=\"#\", delimiter=\",\")\n",
    "print(\"comments:\\n\",a)\n"
   ]
  },
  {
   "cell_type": "code",
   "execution_count": 28,
   "metadata": {},
   "outputs": [
    {
     "name": "stdout",
     "output_type": "stream",
     "text": [
      "no skip_header/skip_footer:\n",
      " [0. 1. 2. 3. 4. 5. 6. 7. 8. 9.]\n",
      "no skip_header/skip_footer:\n",
      " [3. 4.]\n"
     ]
    }
   ],
   "source": [
    "#Skipping lines and choosing columns\n",
    "#The skip_header and skip_footer arguments,这两个参数用于跳过某些数据，前者用于跳过输入开始的个数，后者用于跳过输入结尾处的个数\n",
    "data = \"\\n\".join(str(i) for i in range(10))\n",
    "a = np.genfromtxt(BytesIO(data.encode(\"utf-8\")),)\n",
    "print(\"no skip_header/skip_footer:\\n\",a)\n",
    "\n",
    "a = np.genfromtxt(BytesIO(data.encode(\"utf-8\")),skip_header=3, skip_footer=5)\n",
    "print(\"with skip_header/skip_footer:\\n\",a)\n",
    "\n"
   ]
  },
  {
   "cell_type": "code",
   "execution_count": 30,
   "metadata": {},
   "outputs": [
    {
     "name": "stdout",
     "output_type": "stream",
     "text": [
      "usecols(1):\n",
      " [[1. 3.]\n",
      " [4. 6.]]\n",
      "usecols(2):\n",
      " [(1., 3.) (4., 6.)]\n",
      "usecols(3):\n",
      " [(1., 3.) (4., 6.)]\n"
     ]
    }
   ],
   "source": [
    "#usecols参数,当我们不需要选取所有的列（column）时候，使用参数，该参数用于制定选取某几列\n",
    "data = b\"1 2 3\\n4 5 6\"\n",
    "a = np.genfromtxt(BytesIO(data), usecols=(0, -1))\n",
    "print(\"usecols(1):\\n\",a)\n",
    "\n",
    "#当columns有名字（name）时候，可以通过输入name来选取某几列，通过字符序列或者逗号隔开形式，如下面例子\n",
    "data = b\"1 2 3\\n4 5 6\"\n",
    "a = np.genfromtxt(BytesIO(data),names=\"a, b, c\", usecols=(\"a\", \"c\"))\n",
    "print(\"usecols(2):\\n\",a)\n",
    "\n",
    "a = np.genfromtxt(BytesIO(data),names=\"a, b, c\", usecols=(\"a, c\"))\n",
    "print(\"usecols(3):\\n\",a)\n"
   ]
  },
  {
   "cell_type": "code",
   "execution_count": null,
   "metadata": {},
   "outputs": [],
   "source": [
    "#choosing the data type 选择数据类型\n",
    "#单一类型，dtype=float\n",
    "#类型序列，dtype=(int,float,float)\n",
    "#逗号分割字符串形式，dtype=\"i4,i8,|U3\"\n",
    "#字典形式，使用两个参数，names和formats\n",
    "#元组形式(name,type)，dtype=[('A',int),('B',float)]\n",
    "#已存在的numpy.dtype对象\n",
    "#特殊值，None  ,当dtype=None时候，每一列的类型通过迭代形式查找，首先检查是否能转换成boolean（True or False），然后看时候能转换为integer\n",
    "#              然后是float，然后是complex，然后是string，通常这个行为可以通过StringConverter类来进行修改\n",
    "#当使用dtype=None时候，虽然可以提供方便，但是比起显示的指定dtype更慢\n",
    "\n",
    "\n",
    "\n"
   ]
  },
  {
   "cell_type": "code",
   "execution_count": 41,
   "metadata": {},
   "outputs": [
    {
     "name": "stdout",
     "output_type": "stream",
     "text": [
      "names(1):\n",
      " [(1, 2, 3) (4, 5, 6)] \n",
      " [('a', '<i4'), ('b', '<i4'), ('c', '<i4')]\n",
      "names(2):\n",
      " [(1., 2., 3.) (4., 5., 6.)] \n",
      " [('A', '<f8'), ('B', '<f8'), ('C', '<f8')]\n",
      "names(3):\n",
      " [(1., 2., 3.) (4., 5., 6.)] \n",
      " [('a', '<f8'), ('b', '<f8'), ('c', '<f8')]\n",
      "names(3):\n",
      " [(1, 2., 3) (4, 5., 6)] \n",
      " [('A', '<i4'), ('B', '<f8'), ('C', '<i4')]\n"
     ]
    }
   ],
   "source": [
    "#names参数，用于修改数组中元素的名字，例如处理表格数据时候通常会给每列取一个名字\n",
    "data = BytesIO(b\"1 2 3\\n 4 5 6\")\n",
    "a = np.genfromtxt(data, dtype=[(_, int) for _ in \"abc\"])\n",
    "print(\"names(1):\\n\",a,\"\\n\",a.dtype)\n",
    "\n",
    "data = BytesIO(b\"1 2 3\\n 4 5 6\")\n",
    "a = np.genfromtxt(data, names=\"A, B, C\")\n",
    "print(\"names(2):\\n\",a,\"\\n\",a.dtype)\n",
    "\n",
    "\n",
    "data = BytesIO(b\"So it goes\\n#a b c\\n1 2 3\\n 4 5 6\")\n",
    "a = np.genfromtxt(data, skip_header=1, names=True)#跳过第一行，然后下面一行作为每列的名字\n",
    "print(\"names(3):\\n\",a,\"\\n\",a.dtype)\n",
    "\n",
    "data = BytesIO(b\"1 2 3\\n 4 5 6\")\n",
    "ndtype=[('a',int), ('b', float), ('c', int)]\n",
    "names = [\"A\", \"B\", \"C\"]\n",
    "a = np.genfromtxt(data, names=names, dtype=ndtype)\n",
    "print(\"names(4):\\n\",a,\"\\n\",a.dtype)\n"
   ]
  },
  {
   "cell_type": "code",
   "execution_count": 45,
   "metadata": {},
   "outputs": [
    {
     "name": "stdout",
     "output_type": "stream",
     "text": [
      "default names（1）:\n",
      " [(1, 2., 3) (4, 5., 6)] \n",
      " [('f0', '<i4'), ('f1', '<f8'), ('f2', '<i4')]\n",
      "default names（2）:\n",
      " [(1, 2., 3) (4, 5., 6)] \n",
      " [('a', '<i4'), ('f0', '<f8'), ('f1', '<i4')]\n",
      "defaultfmt:\n",
      " [(1, 2., 3) (4, 5., 6)] \n",
      " [('var_00', '<i4'), ('var_01', '<f8'), ('var_02', '<i4')]\n"
     ]
    }
   ],
   "source": [
    "#defaultfmt参数，当names=None时候，但是一个结构类型被需要，names默认被定义为numpy标准形式：f%i，例如f0,f1\n",
    "#使用defaultfmt参数可以修改numpy标准名称形式\n",
    "data = BytesIO(b\"1 2 3\\n 4 5 6\")\n",
    "a = np.genfromtxt(data, dtype=(int, float, int))\n",
    "print(\"default names（1）:\\n\",a,\"\\n\",a.dtype)#没有names参数，names参数默认是None\n",
    "\n",
    "data = BytesIO(b\"1 2 3\\n 4 5 6\")\n",
    "a = np.genfromtxt(data, dtype=(int, float, int), names=\"a\")\n",
    "print(\"default names（2）:\\n\",a,\"\\n\",a.dtype)#names中没有名字字符的列采用默认标准名称形式，有名字字符的则使用names参数中的名字\n",
    "\n",
    "data = BytesIO(b\"1 2 3\\n 4 5 6\")\n",
    "a = np.genfromtxt(data, dtype=(int, float, int), defaultfmt=\"var_%02i\")#使用defaultfmt参数\n",
    "print(\"defaultfmt:\\n\",a,\"\\n\",a.dtype)\n",
    "\n",
    "#使用defaultfmt时候，我们要时刻记住，仅当某些names被需要但是没有定义时候使用defaultfmt\n",
    "\n"
   ]
  },
  {
   "cell_type": "code",
   "execution_count": null,
   "metadata": {},
   "outputs": [],
   "source": [
    "#Validating names 验证名字\n",
    "#genfromtxt提供三个可选参数，这些参数提供对名称的更好控制\n",
    "\n",
    "#deletechars\n",
    "#给出一个字符串，将所有必须从名称中删除的字符组合在一起。 默认情况下，无效字符是〜！@＃$％^＆*（） - = +〜\\ |]} [{';: / ?.>，<\n",
    "\n",
    "#excludelist\n",
    "#给出要排除的名称列表，例如return，file，print ...如果其中一个输入名称是该列表的一部分，则会在其后面附加下划线字符（'_'）\n",
    "\n",
    "#case_sensitive\n",
    "#是否区分大小写（case_sensitive = True），转换为大写（case_sensitive = False或case_sensitive ='upper'）或小写（case_sensitive ='lower'）\n",
    "\n"
   ]
  },
  {
   "cell_type": "code",
   "execution_count": 15,
   "metadata": {},
   "outputs": [
    {
     "name": "stdout",
     "output_type": "stream",
     "text": [
      "no converters:\n",
      " [(1., nan, 45.) (6., nan,  0.)] \n",
      " [('i', '<f8'), ('p', '<f8'), ('n', '<f8')]\n",
      "with converters（column）:\n",
      " [(1., 0.023, 45.) (6., 0.789,  0.)] \n",
      " [('i', '<f8'), ('p', '<f8'), ('n', '<f8')]\n",
      "with converters （names）:\n",
      " [(1., 0.023, 45.) (6., 0.789,  0.)] \n",
      " [('i', '<f8'), ('p', '<f8'), ('n', '<f8')]\n",
      "coverters for missing entries:\n",
      " [[   1. -999.    3.]\n",
      " [   4.    5.    6.]] \n",
      " float64\n"
     ]
    }
   ],
   "source": [
    "#Tweaking the conversion\n",
    "#converters参数，用于提供转换的函数，将数据转换成特定的格式\n",
    "convertfunc = lambda x: float(x.strip(b\"%\"))/100.\n",
    "data = b\"1, 2.3%, 45.\\n6, 78.9%, 0\"\n",
    "names = (\"i\", \"p\", \"n\")\n",
    "# General case .....\n",
    "a = np.genfromtxt(BytesIO(data), delimiter=\",\", names=names)\n",
    "print(\"no converters:\\n\",a,\"\\n\",a.dtype)#genfromtxt参数dtyoe的默认是float，所有对于不符合dtype的数据，在数组中使用nan表示\n",
    "\n",
    "# Converted case ... ，使用列号进行转换\n",
    "a = np.genfromtxt(BytesIO(data), delimiter=\",\", names=names,converters={1: convertfunc})\n",
    "print(\"with converters（column）:\\n\",a,\"\\n\",a.dtype)#对于不符合dtype的数据，使用converters指向的函数进行转换，然后转换成数组元素\n",
    "                                          #该参数的值是一个字典，{列号：函数名} 或者 {列名：函数名}\n",
    "                                          #该转换函数可以是实际的函数，也可以是lambda函数\n",
    "                                          #在任何情况下，输入应该是字符串，输出是想要的type\n",
    "    \n",
    "# Converted case ... ，使用列名进行转换\n",
    "a = np.genfromtxt(BytesIO(data), delimiter=\",\", names=names,converters={'p': convertfunc})\n",
    "print(\"with converters （names）:\\n\",a,\"\\n\",a.dtype)\n",
    " \n",
    "#converters参数也可以用来为缺失的条目设置默认值\n",
    "data = b\"1, , 3\\n 4, 5, 6\"\n",
    "convert = lambda x: float(x.strip() or -999)\n",
    "a = np.genfromtxt(BytesIO(data), delimiter=\",\", converters={1: convert})\n",
    "print(\"coverters for missing entries:\\n\",a,\"\\n\",a.dtype)\n"
   ]
  },
  {
   "cell_type": "code",
   "execution_count": 48,
   "metadata": {},
   "outputs": [
    {
     "name": "stdout",
     "output_type": "stream",
     "text": [
      "missing_valuse(1):\n",
      " [[999. 999.   3.]\n",
      " [  1.   5.   6.]\n",
      " [  7.   8.   9.]]\n",
      "missing_values and filling_values:\n",
      " [(0, 2,    3) (4, 0, -999)] \n",
      " [('a', '<i4'), ('b', '<i4'), ('c', '<i4')]\n"
     ]
    }
   ],
   "source": [
    "#Using missing and filling values 丢失与填充\n",
    "\n",
    "#在我们导入的数据集中可能存在一些数据的丢失，前面使用了converters参数可以填补丢失的数据，如果没有填补则为nan\n",
    "\n",
    "#missing_values参数，该参数接收三种类型的值\n",
    "#（1）a string or a comma-separated string\n",
    "      #该字符串将用作所有列缺失数据的标记,如string形式：“？？？，0”，逗号分割：“？？？”，“0”\n",
    "\n",
    "#（2）a sequence of strings\n",
    "      #在这种情况下，每个条目都按顺序与列关联。\n",
    "\n",
    "#（3）a dictionary\n",
    "      #字典的值是字符串或字符串序列。 相应的键可以是列索引（整数）或列名称（字符串）。 另外，可以使用特殊键None来定义适用于所有列的默认值。\n",
    "data = b\"N/A, , 3\\n 1, 5, 6\\n7,8,9\"\n",
    "a = np.genfromtxt(BytesIO(data), delimiter=\",\", missing_values={0:\"N/A\"},filling_values=999)\n",
    "print(\"missing_valuse(1):\\n\",a)  \n",
    "\n",
    "#filling_values参数，该参数用于填补缺失的值为特定的值\n",
    "#我们知道如何识别丢失的数据，但我们仍然需要为这些丢失的条目提供一个值。默认情况下，此值根据此表从预期的dtype确定：\n",
    "\n",
    "#Expected type      Default\n",
    "#    bool           False\n",
    "#    int             -1\n",
    "#   float           np.nan\n",
    "#  complex          np.nan+0j\n",
    "#   string           '???'\n",
    "\n",
    "#我们可以使用filling_values可选参数对缺失值的转换进行更精细的控制。像missing_values一样，此参数接受不同类型的值：\n",
    "\n",
    "    #(1)单个值\n",
    "         #这将是所有列的默认值\n",
    "    #(2)一个值序列\n",
    "         #每个条目将是相应列的默认值\n",
    "    #(3)一本字典\n",
    "         #每个键可以是列索引或列名，并且相应的值应该是单个对象。我们可以使用特殊键None为所有列定义默认值。\n",
    "\n",
    "data = b\"N/A, 2, 3\\n4, ,???\"\n",
    "kwargs = dict(delimiter=\",\",\n",
    "              dtype=int,\n",
    "              names=\"a,b,c\",\n",
    "              missing_values={0:\"N/A\", 'b':\" \", 2:\"???\"},\n",
    "              filling_values={0:0, 'b':0, 2:-999})\n",
    "a = np.genfromtxt(BytesIO(data), **kwargs)\n",
    "print(\"missing_values and filling_values:\\n\",a,\"\\n\",a.dtype)\n"
   ]
  },
  {
   "cell_type": "code",
   "execution_count": 52,
   "metadata": {},
   "outputs": [
    {
     "name": "stdout",
     "output_type": "stream",
     "text": [
      "usemask(1):\n",
      " [[-- -- 3.0]\n",
      " [1.0 5.0 6.0]\n",
      " [7.0 8.0 9.0]]\n"
     ]
    }
   ],
   "source": [
    "#usemask参数\n",
    "#我们还可能希望通过构造布尔掩码来跟踪丢失数据的出现，其中缺少数据的True条目，否则False。\n",
    "#为此，我们只需要将可选参数usemask设置为True（默认值为False）。输出数组将是MaskedArray。\n",
    "data = b\"N/A, , 3\\n 1, 5, 6\\n7,8,9\"\n",
    "a = np.genfromtxt(BytesIO(data), delimiter=\",\", missing_values={0:\"N/A\"},filling_values=999,usemask=True)\n",
    "print(\"usemask(1):\\n\",a) "
   ]
  },
  {
   "cell_type": "code",
   "execution_count": 53,
   "metadata": {},
   "outputs": [],
   "source": [
    "#Shortcut functions\n",
    "\n",
    "#除了genfromtxt，numpy.lib.io模块提供了从genfromtxt派生的几个方便函数。这些函数的工作方式与原始函数相同，但它们具有不同的默认值。\n",
    "\n",
    "#    ndfromtxt\n",
    "#    始终设置usemask=False。输出始终为标准numpy.ndarray。\n",
    "#    mafromtxt\n",
    "#    始终设置usemask=True。输出始终为MaskedArray\n",
    "#    recfromtxt\n",
    "#    返回标准numpy.recarray（if usemask=False）或MaskedRecords数组（如果usemaske=True。默认dtype为dtype=None，表示每个列的类型将自动确定。\n",
    "#    recfromcsv\n",
    "#    类似于recfromtxt，但使用默认的delimiter=\",\"。\n"
   ]
  },
  {
   "cell_type": "code",
   "execution_count": null,
   "metadata": {},
   "outputs": [],
   "source": []
  },
  {
   "cell_type": "code",
   "execution_count": null,
   "metadata": {},
   "outputs": [],
   "source": []
  }
 ],
 "metadata": {
  "kernelspec": {
   "display_name": "Python 3",
   "language": "python",
   "name": "python3"
  },
  "language_info": {
   "codemirror_mode": {
    "name": "ipython",
    "version": 3
   },
   "file_extension": ".py",
   "mimetype": "text/x-python",
   "name": "python",
   "nbconvert_exporter": "python",
   "pygments_lexer": "ipython3",
   "version": "3.6.5"
  }
 },
 "nbformat": 4,
 "nbformat_minor": 2
}
