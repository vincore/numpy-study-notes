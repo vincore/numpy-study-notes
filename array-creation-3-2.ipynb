{
 "cells": [
  {
   "cell_type": "code",
   "execution_count": null,
   "metadata": {
    "collapsed": true
   },
   "outputs": [],
   "source": [
    "#3.2 Array creation\n"
   ]
  },
  {
   "cell_type": "code",
   "execution_count": null,
   "metadata": {},
   "outputs": [],
   "source": [
    "#3.2.1 Introduction\n",
    "#有5种创建数组的方式，如下\n",
    "#1. Conversion from other Python structures (e.g., lists, tuples)\n",
    "#从其他Python结构转换\n",
    "#2. Intrinsic numpy array array creation objects (e.g., arange, ones, zeros, etc.)\n",
    "#固有的numpy数组数组创建对象\n",
    "#3. Reading arrays from disk, either from standard or custom formats\n",
    "#从磁盘读取数组，无论是标准的还是自定义格式\n",
    "#4. Creating arrays from raw bytes through the use of strings or buffers\n",
    "#通过使用字符串或缓冲器从原始字节创建数组\n",
    "#5. Use of special library functions (e.g., random)\n",
    "#使用特殊的库函数"
   ]
  },
  {
   "cell_type": "code",
   "execution_count": 1,
   "metadata": {},
   "outputs": [],
   "source": [
    "#3.2.2 Converting Python array_like Objects to NumPy Arrays\n",
    "import numpy as np \n",
    "x = np.array([2,3,1,0])\n",
    "x = np.array([2, 3, 1, 0])\n",
    "# note mix of tuple and lists,and types\n",
    "x = np.array([[1,2.0],[0,0],(1+1j,3.)]) \n",
    "x = np.array([[ 1.+0.j, 2.+0.j], [ 0.+0.j, 0.+0.j], [ 1.+1.j, 3.+0.j]])"
   ]
  },
  {
   "cell_type": "code",
   "execution_count": 9,
   "metadata": {},
   "outputs": [
    {
     "name": "stdout",
     "output_type": "stream",
     "text": [
      "zeros :\n [[0. 0. 0.]\n [0. 0. 0.]]\n----------------\narange:\n [0 1 2 3 4 5 6 7 8 9]\n----------------\narange(float):\n [2. 3. 4. 5. 6. 7. 8. 9.]\n----------------\narange(2,3,0.1):\n [2.  2.1 2.2 2.3 2.4 2.5 2.6 2.7 2.8 2.9]\n----------------\nlinspace(1,4,6):\n [1.  1.6 2.2 2.8 3.4 4. ]\n----------------\nindices(3,3):\n [[[0 0 0]\n  [1 1 1]\n  [2 2 2]]\n\n [[0 1 2]\n  [0 1 2]\n  [0 1 2]]]\nindices shape:  (2, 3, 3)\n"
     ]
    }
   ],
   "source": [
    "#3.2.3 Intrinsic NumPy Array Creation\n",
    "import numpy as np \n",
    "a = np.zeros((2, 3))\n",
    "print(\"zeros :\\n\",a)\n",
    "print(\"----------------\")\n",
    "a = np.arange(10)\n",
    "print(\"arange:\\n\",a)\n",
    "print(\"----------------\")\n",
    "a = np.arange(2, 10, dtype=float)\n",
    "print(\"arange(float):\\n\",a)\n",
    "print(\"----------------\")\n",
    "a = np.arange(2, 3, 0.1)\n",
    "print(\"arange(2,3,0.1):\\n\",a)\n",
    "\n",
    "print(\"----------------\")\n",
    "a = np.linspace(1., 4., 6)\n",
    "print(\"linspace(1,4,6):\\n\",a)\n",
    "print(\"----------------\")\n",
    "a = np.indices((3,3))\n",
    "print(\"indices(3,3):\\n\",a)\n",
    "print(\"indices shape: \",a.shape)\n"
   ]
  },
  {
   "cell_type": "code",
   "execution_count": 10,
   "metadata": {},
   "outputs": [],
   "source": [
    "#3.2.4 Reading Arrays From Disk\n",
    "#最常用于大数组的创建\n",
    "#（1）Standard Binary Formats\n",
    "#HDF5: h5py\n",
    "#FITS: Astropy\n",
    "\n",
    "#（2）Common ASCII Formats\n",
    "#如CSV格式的文件\n",
    "\n",
    "#（3）Custom Binary Formats\n",
    "\n",
    "#（4）Use of Special Libraries\n",
    "\n"
   ]
  },
  {
   "cell_type": "code",
   "execution_count": null,
   "metadata": {},
   "outputs": [],
   "source": []
  }
 ],
 "metadata": {
  "kernelspec": {
   "display_name": "Python 2",
   "language": "python",
   "name": "python2"
  },
  "language_info": {
   "codemirror_mode": {
    "name": "ipython",
    "version": 2
   },
   "file_extension": ".py",
   "mimetype": "text/x-python",
   "name": "python",
   "nbconvert_exporter": "python",
   "pygments_lexer": "ipython2",
   "version": "2.7.6"
  }
 },
 "nbformat": 4,
 "nbformat_minor": 0
}
