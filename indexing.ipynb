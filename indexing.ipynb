{
 "cells": [
  {
   "cell_type": "code",
   "execution_count": 9,
   "metadata": {},
   "outputs": [
    {
     "name": "stdout",
     "output_type": "stream",
     "text": [
      "array a:\n",
      " [0 1 2 3 4 5 6 7 8 9]\n",
      "2\n",
      "8\n",
      "array a:\n",
      " [[0 1 2 3 4]\n",
      " [5 6 7 8 9]]\n",
      "8\n",
      "a[0]=:\n",
      " [0 1 2 3 4]\n",
      "a[0][2]=:\n",
      " 2\n"
     ]
    }
   ],
   "source": [
    "#Indexing\n",
    "import numpy as np\n",
    "a = np.arange(10)\n",
    "print(\"array a:\\n\",a)\n",
    "print(a[2])\n",
    "print(a[-2])#负数也可以作为索引，但是从-1开始，-1表示一维数组的最后一个元素，往前是-2，以此类推\n",
    "\n",
    "a.shape = (2,5)#shape可以改变数组的形状\n",
    "print(\"array a:\\n\",a)\n",
    "print(a[1,3])#访问二维数组中某个元素的第一种方式\n",
    "\n",
    "print(\"a[0]=:\\n\",a[0])#对于二维数组，a[0]表示其中的一行\n",
    "\n",
    "print(\"a[0][2]=:\\n\",a[0][2])#访问二维数组中某个元素的第二总方式\n",
    "\n"
   ]
  },
  {
   "cell_type": "code",
   "execution_count": null,
   "metadata": {},
   "outputs": [],
   "source": []
  },
  {
   "cell_type": "code",
   "execution_count": null,
   "metadata": {},
   "outputs": [],
   "source": []
  },
  {
   "cell_type": "code",
   "execution_count": null,
   "metadata": {},
   "outputs": [],
   "source": []
  }
 ],
 "metadata": {
  "kernelspec": {
   "display_name": "Python 3",
   "language": "python",
   "name": "python3"
  },
  "language_info": {
   "codemirror_mode": {
    "name": "ipython",
    "version": 3
   },
   "file_extension": ".py",
   "mimetype": "text/x-python",
   "name": "python",
   "nbconvert_exporter": "python",
   "pygments_lexer": "ipython3",
   "version": "3.6.5"
  }
 },
 "nbformat": 4,
 "nbformat_minor": 2
}
