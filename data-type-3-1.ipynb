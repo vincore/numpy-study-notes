{
 "cells": [
  {
   "cell_type": "code",
   "execution_count": null,
   "metadata": {
    "collapsed": true
   },
   "outputs": [],
   "source": [
    "#3.1 data type"
   ]
  },
  {
   "cell_type": "code",
   "execution_count": null,
   "metadata": {},
   "outputs": [
    {
     "name": "stdout",
     "output_type": "stream",
     "text": [
      "x:\n 1.0\ny:\n [1 2 4]\nz:\n [0 1 2] \n z dtype: uint8\nz:\n [0 1 2] \n z dtype: uint32\n"
     ]
    }
   ],
   "source": [
    "#3.1.1 Array types and conversions between types\n",
    "import numpy as np \n",
    "#Data type         Description\n",
    "#bool_             Boolean (True or False) stored as a byte\n",
    "#int_              Default integer type (same as C long; normally either int64 or int32)\n",
    "#intc              Identical to C int (normally int32 or int64)\n",
    "#intp              Integer used for indexing (same as C ssize_t; normally either int32 or int64)\n",
    "#int8              Byte (-128 to 127)\n",
    "#int16             Integer (-32768 to 32767)\n",
    "#int32             Integer (-2147483648 to 2147483647)\n",
    "#int64             Integer (-9223372036854775808 to 9223372036854775807)\n",
    "#uint8             Unsigned integer (0 to 255)\n",
    "#uint16            Unsigned integer (0 to 65535)\n",
    "#uint32            Unsigned integer (0 to 4294967295)\n",
    "#uint64            Unsigned integer (0 to 18446744073709551615)\n",
    "#float_            Shorthand for float64.\n",
    "#float16           Half precision float: sign bit, 5 bits exponent, 10 bits mantissa\n",
    "#float32           Single precision float: sign bit, 8 bits exponent, 23 bits mantissa\n",
    "#float64           Double precision float: sign bit, 11 bits exponent, 52 bits mantissa\n",
    "#complex_          Shorthand for complex128.\n",
    "#complex64    Complex number, represented by two 32-bit floats (real and imaginary components)\n",
    "#complex128   Complex number, represented by two 64-bit floats (real and imaginary components)\n",
    "\n",
    "import numpy as np\n",
    "x = np.float32(1.0)\n",
    "print(\"x:\\n\",x)\n",
    "\n",
    "y = np.int_([1,2,4])\n",
    "print(\"y:\\n\",y)\n",
    "\n",
    "z = np.arange(3, dtype=np.uint8)\n",
    "print(\"z:\\n\",z,\"\\n\",\"z dtype:\",z.dtype)\n",
    "print(\"----------------------------\")\n",
    "z = np.arange(3, dtype=np.uint32)\n",
    "print(\"z:\\n\",z,\"\\n\",\"z dtype:\",z.dtype)\n"
   ]
  },
  {
   "cell_type": "code",
   "execution_count": null,
   "metadata": {},
   "outputs": [],
   "source": []
  },
  {
   "cell_type": "code",
   "execution_count": null,
   "metadata": {},
   "outputs": [],
   "source": []
  },
  {
   "cell_type": "code",
   "execution_count": null,
   "metadata": {},
   "outputs": [],
   "source": []
  },
  {
   "cell_type": "code",
   "execution_count": null,
   "metadata": {},
   "outputs": [],
   "source": []
  },
  {
   "cell_type": "code",
   "execution_count": null,
   "metadata": {},
   "outputs": [],
   "source": []
  },
  {
   "cell_type": "code",
   "execution_count": null,
   "metadata": {},
   "outputs": [],
   "source": []
  }
 ],
 "metadata": {
  "kernelspec": {
   "display_name": "Python 2",
   "language": "python",
   "name": "python2"
  },
  "language_info": {
   "codemirror_mode": {
    "name": "ipython",
    "version": 2
   },
   "file_extension": ".py",
   "mimetype": "text/x-python",
   "name": "python",
   "nbconvert_exporter": "python",
   "pygments_lexer": "ipython2",
   "version": "2.7.6"
  }
 },
 "nbformat": 4,
 "nbformat_minor": 0
}
