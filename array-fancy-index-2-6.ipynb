{
 "cells": [
  {
   "cell_type": "code",
   "execution_count": null,
   "metadata": {},
   "outputs": [],
   "source": [
    "#2.6 fancy indexing and index tricks\n",
    "#2018-4-3"
   ]
  },
  {
   "cell_type": "code",
   "execution_count": null,
   "metadata": {},
   "outputs": [],
   "source": [
    "#2.5 less basic\n",
    "#广播的第一条规则是，如果所有输入数组的维数都不相同，\n",
    "# 那么在所有数组具有相同的维数之前，\n",
    "# 会将“1”重复添加到较小数组的形状中。\n",
    "\n",
    "#广播的第二条规则确保沿着特定维度的大小为1的数组的\n",
    "# 行为就好像它们具有沿着该维度的最大形状的数组的大小。\n",
    "#  假设数组元素的值在“广播”数组的维度上是相同的"
   ]
  },
  {
   "cell_type": "code",
   "execution_count": 24,
   "metadata": {
    "collapsed": true
   },
   "outputs": [
    {
     "name": "stdout",
     "output_type": "stream",
     "text": [
      "a平方: \n [  0   1   4   9  16  25  36  49  64  81 100 121]\ni: \n [1 1 3 8 5]\n一维数组i索引:\n [ 1  1  9 64 25]\nj:\n [[3 4]\n [9 7]]\n二维数组j索引:\n [[ 9 16]\n [81 49]]\nimage1 :\n [[255 255 255]\n [255   0   0]\n [  0 255   0]\n [  0   0   0]]\nimage2 :\n [[[  0   0   0]\n  [255   0   0]\n  [  0 255   0]\n  [  0   0   0]]\n\n [[  0   0   0]\n  [  0   0 255]\n  [255 255 255]\n  [  0   0   0]]]\na :\n [[ 0  1  2  3]\n [ 4  5  6  7]\n [ 8  9 10 11]]\n两个下标数组索引：\n [[ 2  5]\n [11  7]]\nc :\n [[ 2  6]\n [10  6]]\nd :\n [[[ 2  1]\n  [ 3  3]]\n\n [[ 6  5]\n  [ 7  7]]\n\n [[10  9]\n  [11 11]]]\nlist :\n [[ 2  5]\n [11  7]]\nc ;\n [[ 2  5]\n [11  7]]\n"
     ]
    }
   ],
   "source": [
    "#2.6.1 indexing with arrays of indices\n",
    "#numpy 不仅支持Python通过整数和切片进行索引，\n",
    "# 还支持整数数组和布尔数组进行索引\n",
    "import numpy as np\n",
    "#（1）原数组是一维数组\n",
    "a = np.arange(12)**2\n",
    "print(\"a平方: \\n\",a)\n",
    "i = np.array([1,1,3,8,5])\n",
    "print(\"i: \\n\",i)\n",
    "#一维数组作为下标索引\n",
    "b = a[i] #通过数组i进行索引,以数组i中的元素作为下标，返回a中对应位置的元素\n",
    "print(\"一维数组i索引:\\n\",b)\n",
    "#(2)二维数组作为下标索引\n",
    "j = np.array([[3,4],[9,7]])\n",
    "print(\"j:\\n\",j)\n",
    "c = a[j]\n",
    "print(\"二维数组j索引:\\n\",c)\n",
    "\n",
    "#原数组是多维数组情况下，使用数组作为下标索引\n",
    "palette = np.array([[0,0,0],\n",
    "                    [255,0,0],\n",
    "                    [0,255,0],\n",
    "                    [0,0,255],\n",
    "                    [255,255,255]])\n",
    "image1 = np.array([4,1,2,0])\n",
    "image2 = np.array([[0,1,2,0],\n",
    "                  [0,3,4,0]])\n",
    "#image中的元素索引对应的原数组的某一维的数组\n",
    "b = palette[image1]\n",
    "print(\"image1 :\\n\",b)\n",
    "c = palette[image2]\n",
    "print(\"image2 :\\n\",c)\n",
    "\n",
    "#索引不在是一个数组，而是两个数组进行索引，如a[i,j]\n",
    "#此时i，j的shape必须一致\n",
    "a = np.arange(12).reshape(3,4)\n",
    "print(\"a :\\n\",a)\n",
    "i = np.array([[0,1],\n",
    "              [2,1]])\n",
    "j = np.array([[2,1],\n",
    "              [3,3]])\n",
    "b = a[i,j]\n",
    "print(\"两个下标数组索引：\\n\",b)\n",
    "c = a[i,2]\n",
    "print(\"c :\\n\",c)\n",
    "d = a[:,j]\n",
    "print(\"d :\\n\",d)\n",
    "\n",
    "#将i，j放入一个列表中，然后作为下标进行索引\n",
    "l = [i,j]\n",
    "b = a[l]\n",
    "print(\"list :\\n\",b)\n",
    "#但是不能讲i，j放入array中来进行索引，如果放入array后，需要用tuple转为元组\n",
    "s = np.array([i,j])\n",
    "#b = a[s] #这是错误的，不能这样使用\n",
    "c = a[tuple(s)] #正确，如果这么使用，必须tuple转换，等同于a[i,j]\n",
    "print(\"c ;\\n\",c)\n",
    "\n"
   ]
  },
  {
   "cell_type": "code",
   "execution_count": 20,
   "metadata": {},
   "outputs": [
    {
     "name": "stdout",
     "output_type": "stream",
     "text": [
      "time :\n [ 20.    51.25  82.5  113.75 145.  ]\ndata :\n [[ 0.          0.84147098  0.90929743  0.14112001]\n [-0.7568025  -0.95892427 -0.2794155   0.6569866 ]\n [ 0.98935825  0.41211849 -0.54402111 -0.99999021]\n [-0.53657292  0.42016704  0.99060736  0.65028784]\n [-0.28790332 -0.96139749 -0.75098725  0.14987721]]\n每列最大值得索引，ind :\n [2 0 3 1]\ntime_max:\n [ 82.5   20.   113.75  51.25]\ndata_max:\n [0.98935825 0.84147098 0.99060736 0.6569866 ]\nx : True\n"
     ]
    }
   ],
   "source": [
    "#另一个数组索引用法是搜索最大值\n",
    "import numpy as np\n",
    "time =  np.linspace(20,145,5)\n",
    "data = np.sin(np.arange(20)).reshape(5,4)\n",
    "print(\"time :\\n\",time)\n",
    "print(\"data :\\n\",data)\n",
    "\n",
    "#返回每一列的最大值得索引\n",
    "ind = data.argmax(axis=0)\n",
    "print(\"每列最大值得索引，ind :\\n\",ind)\n",
    "time_max = time[ind]\n",
    "print(\"time_max:\\n\",time_max) #利用上面最大值的索引作为下标数组搜索\n",
    "\n",
    "#等同于data[ind[0],0],data[ind[1],1],...\n",
    "data_max = data[ind,range(data.shape[1])]\n",
    "print(\"data_max:\\n\",data_max)\n",
    "\n",
    "x = np.all(data_max == data.max(axis=0))\n",
    "print(\"x :\",x)"
   ]
  },
  {
   "cell_type": "code",
   "execution_count": 25,
   "metadata": {},
   "outputs": [
    {
     "name": "stdout",
     "output_type": "stream",
     "text": [
      "a :\n [0 1 2 3 4]\nmodified a :\n [  0 999   2 999 999]\n----------------\nbefore a :\n [0 1 2 3 4]\nmodified a :\n [33  1 55  3  4]\n------------------\na :\n [0 1 2 3 4]\n+= a :\n [1 1 3 3 4]\n"
     ]
    }
   ],
   "source": [
    "#使用数组下标进行赋值\n",
    "import numpy as np\n",
    "a = np.arange(5)\n",
    "print(\"a :\\n\",a)\n",
    "a[[1,3,4]] = 999\n",
    "print(\"modified a :\\n\",a)\n",
    "\n",
    "print(\"----------------\")\n",
    "#当列表中包含重复的时候，赋值会重复几次，最后一次的值生效\n",
    "a = np.arange(5)\n",
    "print(\"before a :\\n\",a)\n",
    "a[[0,0,2]] = [22,33,55]\n",
    "print(\"modified a :\\n\",a)\n",
    "\n",
    "print(\"------------------\")\n",
    "#当时用\"+=\"时候，遇到重复的只会计算第一次的，不会重复计算\n",
    "a = np.arange(5)\n",
    "print(\"a :\\n\",a)\n",
    "a[[0,0,2]] += 1\n",
    "print(\"+= a :\\n\",a)"
   ]
  },
  {
   "cell_type": "code",
   "execution_count": 27,
   "metadata": {},
   "outputs": [
    {
     "name": "stdout",
     "output_type": "stream",
     "text": [
      "origin a :\n [[ 0  1  2  3]\n [ 4  5  6  7]\n [ 8  9 10 11]]\nb :\b [[False False False False]\n [False  True  True  True]\n [ True  True  True  True]]\nboolean index, c :\n [ 5  6  7  8  9 10 11]\nboolean index 赋值 :\n [[0 1 2 3]\n [4 0 0 0]\n [0 0 0 0]]\n"
     ]
    }
   ],
   "source": [
    "#2.6.2 indexing with boolean arrays\n",
    "import numpy as np \n",
    "#使用布尔数组进行索引\n",
    "#使用布尔数组进行索引，当数组位置上是true时候代表需要，false时候表示不需要\n",
    "a = np.arange(12).reshape(3,4)\n",
    "print(\"origin a :\\n\",a)\n",
    "b = a > 4\n",
    "print(\"b :\\b\",b)\n",
    "c = a[b]\n",
    "print(\"boolean index, c :\\n\",c)\n",
    "a[b] = 0 #使用布尔数组作为下标赋值时候，只对true位置的元素进行赋值\n",
    "print(\"boolean index 赋值 :\\n\",a)"
   ]
  },
  {
   "cell_type": "code",
   "execution_count": 30,
   "metadata": {
    "collapsed": false
   },
   "outputs": [
    {
     "data": {
      "image/png": "[encoded data removed]",
      "text/plain": [
       "<Figure size 432x288 with 1 Axes>"
      ]
     },
     "metadata": {},
     "output_type": "display_data"
    }
   ],
   "source": [
    "#利用boolean array作为下标索引产生一个图像，利用matplotlib\n",
    "import numpy as np\n",
    "import matplotlib.pyplot as plt\n",
    "def mandelbrot( h,w, maxit=20 ):\n",
    "    \"\"\"Returns an image of the Mandelbrot fractal of size (h,w).\"\"\"\n",
    "    y,x = np.ogrid[ -1.4:1.4:h*1j, -2:0.8:w*1j ]\n",
    "    c = x+y*1j\n",
    "    z = c\n",
    "    divtime = maxit + np.zeros(z.shape, dtype=int)\n",
    "    for i in range(maxit):\n",
    "        z = z**2 + c\n",
    "        diverge = z*np.conj(z) > 2**2 # who is diverging\n",
    "        div_now = diverge & (divtime==maxit) # who is diverging now\n",
    "        divtime[div_now] = i # note when\n",
    "        z[diverge] = 2 # avoid diverging too much\n",
    "    return divtime\n",
    "plt.imshow(mandelbrot(400,400))\n",
    "plt.show()\n",
    "\n"
   ]
  },
  {
   "cell_type": "code",
   "execution_count": 42,
   "metadata": {},
   "outputs": [
    {
     "name": "stdout",
     "output_type": "stream",
     "text": [
      "a:\n [[ 0  1  2  3]\n [ 4  5  6  7]\n [ 8  9 10 11]]\n(1):\n [[ 4  5  6  7]\n [ 8  9 10 11]]\n(2):\n [[ 4  5  6  7]\n [ 8  9 10 11]]\n(3):\n [[0 1]\n [4 5]\n [8 9]]\n(4):\n [4 9]\n"
     ]
    }
   ],
   "source": [
    "#布尔第二种索引方法\n",
    "a = np.arange(12).reshape(3,4)\n",
    "print(\"a:\\n\",a)\n",
    "#选择对应b1元素是true的某一维\n",
    "b1 = np.array([False,True,True]) # first dim selection\n",
    "#b2 = np.array([True,False,True,False]) # second dim selection\n",
    "b2 = np.array([True,True,False,False])\n",
    "print(\"(1):\\n\",a[b1,:]) # selecting rows\n",
    "\n",
    "print(\"(2):\\n\",a[b1]) # same thing\n",
    "print(\"(3):\\n\",a[:,b2]) # selecting columns\n",
    "print(\"(4):\\n\",a[b1,b2]) # a weird thing to do\n",
    "\n"
   ]
  },
  {
   "cell_type": "code",
   "execution_count": 31,
   "metadata": {},
   "outputs": [
    {
     "name": "stdout",
     "output_type": "stream",
     "text": [
      "[-1  4  9]\n[-1  4]\n[-1.  -0.5  0.   0.5  1. ]\n[-1.  -0.6 -0.2  0.2  0.6  1. ]\n[[[0 0 0 0 0]\n  [1 1 1 1 1]\n  [2 2 2 2 2]\n  [3 3 3 3 3]\n  [4 4 4 4 4]]\n\n [[0 1 2 3 4]\n  [0 1 2 3 4]\n  [0 1 2 3 4]\n  [0 1 2 3 4]\n  [0 1 2 3 4]]]\n"
     ]
    }
   ],
   "source": [
    "import numpy as np\n",
    "\n",
    "# 起始:终止:间隔 （不包括终止）\n",
    "print(np.mgrid[-1:10:5])\n",
    "print(np.mgrid[-1:9:5])\n",
    "# 起始:终止:这个维度上点的个数j （包括终止）\n",
    "print(np.mgrid[-1:1:5j])\n",
    "print(np.mgrid[-1:1:6j])\n",
    "# 高维网格，默认间隔为1\n",
    "print(np.mgrid[0:5,0:5])"
   ]
  },
  {
   "cell_type": "code",
   "execution_count": 32,
   "metadata": {},
   "outputs": [
    {
     "name": "stdout",
     "output_type": "stream",
     "text": [
      "[array([[0],\n       [1],\n       [2],\n       [3],\n       [4]]), array([[0, 1, 2, 3, 4]])]\n[[[0 0 0 0 0]\n  [1 1 1 1 1]\n  [2 2 2 2 2]\n  [3 3 3 3 3]\n  [4 4 4 4 4]]\n\n [[0 1 2 3 4]\n  [0 1 2 3 4]\n  [0 1 2 3 4]\n  [0 1 2 3 4]\n  [0 1 2 3 4]]]\n"
     ]
    }
   ],
   "source": [
    "import numpy as np\n",
    "print(np.ogrid[0:5,0:5])\n",
    "print(np.mgrid[0:5,0:5])\n"
   ]
  },
  {
   "cell_type": "code",
   "execution_count": 36,
   "metadata": {},
   "outputs": [
    {
     "name": "stdout",
     "output_type": "stream",
     "text": [
      "ax:\n [[[2]]\n\n [[3]]\n\n [[4]]\n\n [[5]]]\nbx :\n [[[8]\n  [5]\n  [4]]]\ncx :\n [[[5 4 6 8 3]]]\n"
     ]
    }
   ],
   "source": [
    "#ix_函数可以用来组合不同的向量，以获得每个n-uplet的结果\n",
    "import numpy as np\n",
    "a = np.array([2,3,4,5])\n",
    "b = np.array([8,5,4])\n",
    "c = np.array([5,4,6,8,3])\n",
    "ax,bx,cx = np.ix_(a,b,c)\n",
    "print(\"ax:\\n\",ax)\n",
    "print(\"bx :\\n\",bx)\n",
    "print(\"cx :\\n\",cx)"
   ]
  },
  {
   "cell_type": "code",
   "execution_count": null,
   "metadata": {},
   "outputs": [],
   "source": []
  },
  {
   "cell_type": "code",
   "execution_count": null,
   "metadata": {},
   "outputs": [],
   "source": []
  }
 ],
 "metadata": {
  "kernelspec": {
   "display_name": "Python 2",
   "language": "python",
   "name": "python2"
  },
  "language_info": {
   "codemirror_mode": {
    "name": "ipython",
    "version": 2
   },
   "file_extension": ".py",
   "mimetype": "text/x-python",
   "name": "python",
   "nbconvert_exporter": "python",
   "pygments_lexer": "ipython2",
   "version": "2.7.6"
  }
 },
 "nbformat": 4,
 "nbformat_minor": 0
}
