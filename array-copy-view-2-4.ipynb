{
 "cells": [
  {
   "cell_type": "code",
   "execution_count": null,
   "metadata": {
    "collapsed": true
   },
   "outputs": [],
   "source": [
    "#2.4 copies and views\n",
    "#2018-04-02"
   ]
  },
  {
   "cell_type": "code",
   "execution_count": 6,
   "metadata": {},
   "outputs": [
    {
     "name": "stdout",
     "output_type": "stream",
     "text": [
      "a(1): [ 0  1  2  3  4  5  6  7  8  9 10 11]\nTrue\na.shape: (12,) b.shape: (12,)\n(3, 4)\n---------------------\n97729232\n97729232\nNone\n"
     ]
    }
   ],
   "source": [
    "#2.4.1 no copy at all\n",
    "import numpy as np\n",
    "a = np.arange(12)\n",
    "print(\"a(1):\",a)\n",
    "b = a #没有创建新的对象，a、b是相同array对象的两个名字\n",
    "print(b is a) #a和b指向同一个数组对象，对a和b的修改操作同一个数组对象\n",
    "print(\"a.shape:\",a.shape,\"b.shape:\",b.shape)\n",
    "b.shape = 3,4 #使用b进行修改shape，则a的shape也会改变\n",
    "print(a.shape)\n",
    "\n",
    "print(\"---------------------\")\n",
    "#python传递可变对象作为引用，所以函数调用不会复制\n",
    "def f(x):\n",
    "    print(id(a)) # id 是一个对象独一无二的标识，通过id()来获取\n",
    "\n",
    "print(id(a))\n",
    "print(f(a)) #可变对象作为引用传递"
   ]
  },
  {
   "cell_type": "code",
   "execution_count": 26,
   "metadata": {},
   "outputs": [
    {
     "name": "stdout",
     "output_type": "stream",
     "text": [
      "[[ 0  1  2  3]\n [ 4  5  6  7]\n [ 8  9 10 11]]\nview(): False\nb.base与a: True\nb.base: [[ 0  1  2  3]\n [ 4  5  6  7]\n [ 8  9 10 11]]\na.base: None\nb.flags.owndata: False\na.shape:  (3, 4) b.shape: (2, 6)\na: [[ 0  1  2  3]\n [ 4  5  6  7]\n [ 8  9 10 11]]\nb: [[ 0  1  2  3  4  5]\n [ 6  7  8  9 10 11]]\nmodfied, a:\n [[   0    1    2    3]\n [1024    5    6    7]\n [   8    9   10   11]]\nmodifed, b:\n [[   0    1    2    3 1024    5]\n [   6    7    8    9   10   11]]\ns:\n [[ 1  2]\n [ 5  6]\n [ 9 10]]\nmodifed,s:\n [[10 10]\n [10 10]\n [10 10]]\nmofified,a:\n [[   0   10   10    3]\n [1024   10   10    7]\n [   8   10   10   11]]\n"
     ]
    }
   ],
   "source": [
    "#2.4.2 view or shallow copy\n",
    "#浅拷贝\n",
    "import numpy as np\n",
    "#不同的数组对象共享相同的数据，\n",
    "# view()方法创建一个新的数组对象，但是看到相同的数据\n",
    "a = np.array([[0,1,2,3],[4,5,6,7],[8,9,10,11]])\n",
    "print(a)\n",
    "b = a.view() #创建一个新的数组对象，但是和a拥有相同的数据\n",
    "print(\"view():\",b is a) #a b是两个不同的对象\n",
    "print(\"b.base与a:\",b.base is a)\n",
    "print(\"b.base:\",b.base) #显示b的数组数据,只有在view()创建出的对象有base\n",
    "print(\"a.base:\",a.base) #返回None\n",
    "# 查看view()创建出的对象不拥有自己的数据，数据有a拥有\n",
    "print(\"b.flags.owndata:\",b.flags.owndata)\n",
    "b.shape = 2,6 #不会修改a的shape,只是b的shape会改变\n",
    "print(\"a.shape: \",a.shape,\"b.shape:\",b.shape)\n",
    "print(\"a:\",a)\n",
    "print(\"b:\",b)\n",
    "#虽然不能更改shape，但是可以修改底层的数据，例如\n",
    "b[0,4] = 1024 #可以修改底层数据\n",
    "print(\"modfied, a:\\n\",a)\n",
    "print(\"modifed, b:\\n\",b)\n",
    "s = a[:,1:3] #切片，s指向a的某一部分\n",
    "print(\"s:\\n\",s)\n",
    "s[:] = 10 #将s指向的部分全部赋值为10\n",
    "print(\"modifed,s:\\n\",s)\n",
    "print(\"mofified,a:\\n\",a)\n",
    "\n"
   ]
  },
  {
   "cell_type": "code",
   "execution_count": 29,
   "metadata": {},
   "outputs": [
    {
     "name": "stdout",
     "output_type": "stream",
     "text": [
      "create a:\n [[ 0  1  2  3]\n [ 4  5  6  7]\n [ 8  9 10 11]]\nid ,a:\n 85386544\nid ,d:\n 85388224\ncopy b:\n [[ 0  1  2  3]\n [ 4  5  6  7]\n [ 8  9 10 11]]\na和d是完全不同的： False\nd的底层数据不和a共用： False\na.base : None\nmodified,d:\n [[9999    1    2    3]\n [   4    5    6    7]\n [   8    9   10   11]]\nmodified,a:\n [[2222    1    2    3]\n [   4    5    6    7]\n [   8    9   10   11]]\n"
     ]
    }
   ],
   "source": [
    "#2.4.3 deep copy\n",
    "#深拷贝\n",
    "import numpy as np\n",
    "a = np.array([[0,1,2,3],[4,5,6,7],[8,9,10,11]])\n",
    "print(\"create a:\\n\",a)\n",
    "d = a.copy() #copy()方法直接拷贝完全的数组，包括数据\n",
    "#a和d的id是不同的\n",
    "print(\"id ,a:\\n\",id(a))\n",
    "print(\"id ,d:\\n\",id(d))\n",
    "print(\"copy b:\\n\",d)\n",
    "print(\"a和d是完全不同的：\",d is a)\n",
    "print(\"d的底层数据不和a共用：\",d.base is a)\n",
    "print(\"a.base :\",a.base) #只有copy()出来的对象才有base\n",
    "#d、a的修改不会相互干扰，因为两者是完完全全的两个数组\n",
    "#a和d不共享任何东西\n",
    "d[0,0] = 9999\n",
    "a[0,0] = 2222\n",
    "print(\"modified,d:\\n\",d)\n",
    "print(\"modified,a:\\n\",a)\n",
    "\n",
    "\n",
    "\n",
    "\n"
   ]
  },
  {
   "cell_type": "code",
   "execution_count": 59,
   "metadata": {},
   "outputs": [
    {
     "name": "stdout",
     "output_type": "stream",
     "text": [
      "zeros_like:\n [0 0 0 0 0]\nzeros_like:\n [1 1 1 1 1]\nzeros:\n [[0. 0. 0. 0.]\n [0. 0. 0. 0.]\n [0. 0. 0. 0.]]\nall:\n False\n8.0\n"
     ]
    }
   ],
   "source": [
    "#2.4.2 functions and methods overview\n",
    "#有用的函数和方法\n",
    "import numpy as np\n",
    "#（1）Array Creation\n",
    "#arange、array、copy、empty、empty_like、eye、fromfile、\n",
    "# fromfunction、identity、linspace、logspace、mgrid、ogrid、\n",
    "# ones、ones_like、r、zeros、zeros_like\n",
    "a = np.zeros_like([1,2,3,7,8])\n",
    "print(\"zeros_like:\\n\",a)\n",
    "a = np.ones_like([1,2,3,7,8])\n",
    "print(\"zeros_like:\\n\",a)\n",
    "a = np.zeros([3,4])\n",
    "print(\"zeros:\\n\",a)\n",
    "#（2）Conversions\n",
    "#ndarray.astype, atleast_1d, atleast_2d, atleast_3d, mat\n",
    "\n",
    "#（3）Manipulations\n",
    "#array_split, column_stack, concatenate, diagonal, dsplit, \n",
    "# dstack, hsplit, hstack,ndarray.item, newaxis, ravel, repeat, \n",
    "# reshape, resize, squeeze, swapaxes, take,transpose, vsplit, vstack\n",
    "\n",
    "#（4）Questions\n",
    "#all, any, nonzero, where\n",
    "a = np.array([1,2,3,0,5,6,7,8])\n",
    "b = np.all(a)\n",
    "print(\"all:\\n\",b)\n",
    "#（5）Ordering\n",
    "#argmax, argmin, argsort, max, min, ptp, searchsorted, sort\n",
    "\n",
    "#（6）Operations\n",
    "#choose, compress, cumprod, cumsum, inner, ndarray.fill, \n",
    "# imag, prod, put, putmask, real,sum\n",
    "\n",
    "#（7）Basic Statistics\n",
    "#cov, mean, std, var\n",
    "a = np.array([[6,2],[7,8],[4,5]])\n",
    "b = np.array([[1,0],[3,4]])\n",
    "c = np.array([6,2])\n",
    "d = np.cov(c) #计算协方差\n",
    "print(d)\n",
    "\n",
    "#（8）Basic Linear Algebra\n",
    "#cross, dot, outer, linalg.svd, vdot\n",
    "\n",
    "#\n",
    "\n",
    "\n",
    "\n",
    "\n",
    "\n",
    "\n",
    "\n",
    "\n"
   ]
  },
  {
   "cell_type": "code",
   "execution_count": 58,
   "metadata": {},
   "outputs": [],
   "source": []
  },
  {
   "cell_type": "code",
   "execution_count": null,
   "metadata": {},
   "outputs": [],
   "source": []
  }
 ],
 "metadata": {
  "kernelspec": {
   "display_name": "Python 2",
   "language": "python",
   "name": "python2"
  },
  "language_info": {
   "codemirror_mode": {
    "name": "ipython",
    "version": 2
   },
   "file_extension": ".py",
   "mimetype": "text/x-python",
   "name": "python",
   "nbconvert_exporter": "python",
   "pygments_lexer": "ipython2",
   "version": "2.7.6"
  }
 },
 "nbformat": 4,
 "nbformat_minor": 0
}
