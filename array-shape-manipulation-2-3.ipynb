{
 "cells": [
  {
   "cell_type": "code",
   "execution_count": null,
   "metadata": {},
   "outputs": [],
   "source": [
    "#2.3 shape manipulation\n",
    "#2018.04.01"
   ]
  },
  {
   "cell_type": "code",
   "execution_count": 11,
   "metadata": {
    "collapsed": true
   },
   "outputs": [
    {
     "name": "stdout",
     "output_type": "stream",
     "text": [
      "shape: (3, 4)\n[[ 1  2  3  4]\n [ 5  6  7  8]\n [ 9 10 11 12]]\n1darray: [ 1  2  3  4  5  6  7  8  9 10 11 12]\n6行2列：\n [[ 1  2]\n [ 3  4]\n [ 5  6]\n [ 7  8]\n [ 9 10]\n [11 12]]\n转置：\n [[ 1  5  9]\n [ 2  6 10]\n [ 3  7 11]\n [ 4  8 12]]\na.T.shape:  (4, 3)\na.shape  :  (3, 4)\n原array: \n [[ 1  2  3  4]\n [ 5  6  7  8]\n [ 9 10 11 12]]\nb :\n None\na: \n [[ 1  2  3  4  5  6]\n [ 7  8  9 10 11 12]]\n"
     ]
    }
   ],
   "source": [
    "#2.3.1 changing the shape of an array\n",
    "\n",
    "import numpy as np\n",
    "#改变数组的shape\n",
    "a = np.array([[1,2,3,4],[5,6,7,8],[9,10,11,12]])\n",
    "print(\"shape:\",a.shape)\n",
    "print(a)\n",
    "#以下三个方法可以改变array的shape，但是不改变原array\n",
    "#返回一维数组\n",
    "b = a.ravel() #flattened,返回一维数组\n",
    "print(\"1darray:\",b)\n",
    "#返回一个修改的shape\n",
    "b = a.reshape(6,2) #reshape()返回修改的array，参数乘积必须等于元素个数\n",
    "print(\"6行2列：\\n\",b)\n",
    "#转置\n",
    "b = a.T #transposed，a的转置,即a[i,j]与a[j,i]互换位置\n",
    "print(\"转置：\\n\",b)\n",
    "print(\"a.T.shape: \",b.shape)\n",
    "print(\"a.shape  : \",a.shape)\n",
    "#array的元素顺序是C-style的，即右边索引变化最快(changes the fastest)\n",
    "#因为在a[0,1]之后是a[0,1]\n",
    "#reshape()返回一个修改的数组，resize()修改array本身,返回None\n",
    "print(\"原array: \\n\",a)\n",
    "b = a.resize(2,6)\n",
    "print(\"b :\\n\",b)\n",
    "print(\"a: \\n\",a)\n",
    "\n"
   ]
  },
  {
   "cell_type": "code",
   "execution_count": 54,
   "metadata": {},
   "outputs": [
    {
     "name": "stdout",
     "output_type": "stream",
     "text": [
      "a(1) : \n [[4. 6.]\n [9. 4.]]\nb(1) : \n [[5. 8.]\n [6. 5.]]\nvstack(1):\n [[4. 6.]\n [9. 4.]\n [5. 8.]\n [6. 5.]]\nhstack(1):\n [[4. 6. 5. 8.]\n [9. 4. 6. 5.]]\ncolumn_stack(1):\n [[4. 6. 5. 8.]\n [9. 4. 6. 5.]]\ncolumn_stack(2): \n [[4. 3.]\n [2. 8.]]\nhstack(2): \n [4. 2. 3. 8.]\nnewaxis(1): \n [[4.]\n [2.]]\ncolumn_stack(3):\n [[4. 3.]\n [2. 8.]]\nhstack(3):\n [[4. 3.]\n [2. 8.]]\nr_ : \n [1 2 3 0 1 2 4]\nc_ : \n [[1 2 3 4 5 6 6]]\nc_ : \n [[1 2 3 4 7 8 9]]\nc_ : \n [[1 2 3 4 5 6 6]]\n--------------\na ():\n [[4.]\n [2.]]\nshape:  (2, 1)\na(newaxis-r) \n: [[[4.]]\n\n [[2.]]]\nshape:  (2, 1, 1)\n--------------\na ():\n [[4.]\n [2.]]\nshape:  (2, 1)\na(newaxis-l) \n: [[[4.]\n  [2.]]]\nshape:  (1, 2, 1)\n--------------\na ():\n [4. 2.]\nshape:  (2,)\na(newaxis-r) \n: [[4.]\n [2.]]\nshape:  (2, 1)\n--------------\na ():\n [4. 2.]\nshape:  (2,)\na(newaxis-l) \n: [[4. 2.]]\nshape:  (1, 2)\n"
     ]
    }
   ],
   "source": [
    "#2.3.2 stacking together different arrays\n",
    "import numpy as np\n",
    "a = np.floor(10*np.random.random((2,2)))\n",
    "print(\"a(1) : \\n\",a)\n",
    "b = np.floor(10*np.random.random((2,2)))\n",
    "print(\"b(1) : \\n\",b)\n",
    "c = np.vstack((a,b)) #两个二维数组垂直组合\n",
    "print(\"vstack(1):\\n\",c)\n",
    "c = np.hstack((a,b)) #两个二维数组平行组合\n",
    "print(\"hstack(1):\\n\",c)\n",
    "\n",
    "from numpy import newaxis\n",
    "\n",
    "c = np.column_stack((a,b)) #堆1darray作为列，成为2darray\n",
    "print(\"column_stack(1):\\n\",c)#在二维时候和hstack()等同\n",
    "\n",
    "a = np.array([4.,2.])\n",
    "b = np.array([3.,8.])\n",
    "#注意column_stack()与hstack()的区别，见下面例子：\n",
    "c = np.column_stack((a,b))\n",
    "print(\"column_stack(2): \\n\",c) \n",
    "c = np.hstack((a,b))\n",
    "print(\"hstack(2): \\n\",c)\n",
    "#一维数组，由1d行向量转为2d列向量\n",
    "c = a[:,newaxis]\n",
    "print(\"newaxis(1): \\n\",c)\n",
    "#此处先将a,b转为列向量，在使用column_stack()将转换后的向量组合\n",
    "c = np.column_stack((a[:,newaxis],b[:,newaxis]))\n",
    "print(\"column_stack(3):\\n\",c)\n",
    "#此处先将a,b转为列向量，在使用hstack()将转换后的向量组合\n",
    "c = np.hstack((a[:,newaxis],b[:,newaxis]))\n",
    "print(\"hstack(3):\\n\",c)\n",
    "\n",
    "#row_stack()等同于vstack()\n",
    "\n",
    "a = np.r_[1:4,0:3,4] #产生一维数组，允许使用冒号形式(:),连接到第一维\n",
    "print(\"r_ : \\n\",a)\n",
    "a = np.c_[1,2,3,4,5,6,6]#产生一维数组，允许使用冒号形式(:)，连接到第二维上\n",
    "print(\"c_ : \\n\",a)\n",
    "a = np.c_[np.array([[1,2,3]]),4,np.array([[7,8,9]])]#产生一维数组，允许使用冒号形式(:)，连接到第二维上\n",
    "print(\"c_ : \\n\",a)\n",
    "a = np.c_[[[1,2,3]],4,5,6,6]#产生一维数组，允许使用冒号形式(:)，连接到第二维上\n",
    "print(\"c_ : \\n\",a)\n",
    "\n",
    "print(\"--------------\")\n",
    "a = np.array([[4.],[2.]])\n",
    "print(\"a ():\\n\",a)\n",
    "print(\"shape: \",a.shape)\n",
    "b = a[:,newaxis]\n",
    "print(\"a(newaxis-r) \\n:\",b)\n",
    "print(\"shape: \",b.shape)\n",
    "\n",
    "print(\"--------------\")\n",
    "a = np.array([[4.],[2.]])\n",
    "print(\"a ():\\n\",a)\n",
    "print(\"shape: \",a.shape)\n",
    "b = a[newaxis,:]\n",
    "print(\"a(newaxis-l) \\n:\",b)\n",
    "print(\"shape: \",b.shape)\n",
    "\n",
    "print(\"--------------\")\n",
    "a = np.array([4.,2.])\n",
    "print(\"a ():\\n\",a)\n",
    "print(\"shape: \",a.shape)\n",
    "b = a[:,newaxis]\n",
    "print(\"a(newaxis-r) \\n:\",b)\n",
    "print(\"shape: \",b.shape)\n",
    "\n",
    "print(\"--------------\")\n",
    "a = np.array([4.,2.])\n",
    "print(\"a ():\\n\",a)\n",
    "print(\"shape: \",a.shape)\n",
    "b = a[newaxis,:]\n",
    "print(\"a(newaxis-l) \\n:\",b)\n",
    "print(\"shape: \",b.shape)\n"
   ]
  },
  {
   "cell_type": "code",
   "execution_count": 63,
   "metadata": {},
   "outputs": [
    {
     "name": "stdout",
     "output_type": "stream",
     "text": [
      "[[6. 5. 3. 3. 1. 4. 4. 4. 6. 7. 0. 2.]\n [6. 6. 9. 8. 0. 4. 4. 3. 8. 8. 6. 4.]]\n[array([[6., 5., 3., 3.],\n       [6., 6., 9., 8.]]), array([[1., 4., 4., 4.],\n       [0., 4., 4., 3.]]), array([[6., 7., 0., 2.],\n       [8., 8., 6., 4.]])]\n----------\n[array([[6., 5., 3.],\n       [6., 6., 9.]]), array([[3.],\n       [8.]]), array([[1., 4., 4., 4., 6., 7., 0., 2.],\n       [0., 4., 4., 3., 8., 8., 6., 4.]])]\n----------\n[array([[6., 5., 3.],\n       [6., 6., 9.]]), array([[3., 1.],\n       [8., 0.]]), array([[4., 4., 4., 6., 7., 0., 2.],\n       [4., 4., 3., 8., 8., 6., 4.]])]\n"
     ]
    }
   ],
   "source": [
    "#2.3.3 splitting one array into several samaller ones\n",
    "#讲一个数组分割成多个小数组\n",
    "import numpy as np\n",
    "a = np.floor(10*np.random.random((2,12)))\n",
    "print(a)\n",
    "b = np.hsplit(a,3) #沿水平轴切割成3个数组\n",
    "print(b)\n",
    "\n",
    "print(\"----------\")\n",
    "#切割成：第三列前面一个，第三列一个，第三列之后一个\n",
    "b = np.hsplit(a,(3,4))\n",
    "print(b)\n",
    "\n",
    "print(\"----------\")\n",
    "#切割成：第三、四列前面一个，第三、四列一个，第三、四列之后一个\n",
    "b = np.hsplit(a,(3,5))\n",
    "print(b)\n",
    "\n",
    "\n",
    "\n",
    "\n",
    "\n",
    "\n"
   ]
  },
  {
   "cell_type": "code",
   "execution_count": 17,
   "metadata": {},
   "outputs": [],
   "source": []
  },
  {
   "cell_type": "code",
   "execution_count": null,
   "metadata": {},
   "outputs": [],
   "source": []
  }
 ],
 "metadata": {
  "kernelspec": {
   "display_name": "Python 2",
   "language": "python",
   "name": "python2"
  },
  "language_info": {
   "codemirror_mode": {
    "name": "ipython",
    "version": 2
   },
   "file_extension": ".py",
   "mimetype": "text/x-python",
   "name": "python",
   "nbconvert_exporter": "python",
   "pygments_lexer": "ipython2",
   "version": "2.7.6"
  }
 },
 "nbformat": 4,
 "nbformat_minor": 0
}
