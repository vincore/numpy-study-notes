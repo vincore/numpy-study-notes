{
 "cells": [
  {
   "cell_type": "code",
   "execution_count": null,
   "metadata": {
    "collapsed": true
   },
   "outputs": [],
   "source": [
    "#2.7 linear algebra\n"
   ]
  },
  {
   "cell_type": "code",
   "execution_count": 7,
   "metadata": {},
   "outputs": [
    {
     "name": "stdout",
     "output_type": "stream",
     "text": [
      "a: \n [[1. 2.]\n [3. 4.]]\ntranspose b:\n [[1. 3.]\n [2. 4.]]\nlinalg.inv c :\n [[-2.   1. ]\n [ 1.5 -0.5]]\nlinear solve c:\n [[-3.]\n [ 4.]]\ntrace c : 5.0\n"
     ]
    },
    {
     "name": "stdout",
     "output_type": "stream",
     "text": [
      "linalg.eig c:\n (array([0.+1.j, 0.-1.j]), array([[0.70710678+0.j        , 0.70710678-0.j        ],\n       [0.        -0.70710678j, 0.        +0.70710678j]]))\n"
     ]
    }
   ],
   "source": [
    "#2.7.1 Simple Array Operations\n",
    "import numpy as np\n",
    "a = np.array([[1.0,2.0],[3.0,4.0]])\n",
    "print(\"a: \\n\",a)\n",
    "b = a.transpose() #转置\n",
    "print(\"transpose b:\\n\",b)\n",
    "c = np.linalg.inv(a) #求矩阵的逆\n",
    "print(\"linalg.inv c :\\n\",c)\n",
    "\n",
    "y = np.array([[5.], [7.]])\n",
    "c = np.linalg.solve(a, y) #解线性方程组ax=y，返回解x\n",
    "print(\"linear solve c:\\n\",c)\n",
    "\n",
    "c = np.trace(a) #矩阵的迹,主对角线上元素的和\n",
    "print(\"trace c :\",c)\n",
    "\n",
    "j = np.array([[0.0, -1.0], [1.0, 0.0]])\n",
    "c = np.linalg.eig(j) #计算方阵的特征值和右特征值\n",
    "print(\"linalg.eig c:\\n\",c)\n"
   ]
  },
  {
   "cell_type": "code",
   "execution_count": null,
   "metadata": {},
   "outputs": [],
   "source": [
    "#2.8 Tricks and Tips"
   ]
  },
  {
   "cell_type": "code",
   "execution_count": 9,
   "metadata": {},
   "outputs": [
    {
     "name": "stdout",
     "output_type": "stream",
     "text": [
      "a:\n [ 0  1  2  3  4  5  6  7  8  9 10 11 12 13 14 15 16 17 18 19 20 21 22 23\n 24 25 26 27 28 29]\nshape :\n (2, 5, 3)\na:\n [[[ 0  1  2]\n  [ 3  4  5]\n  [ 6  7  8]\n  [ 9 10 11]\n  [12 13 14]]\n\n [[15 16 17]\n  [18 19 20]\n  [21 22 23]\n  [24 25 26]\n  [27 28 29]]]\n"
     ]
    }
   ],
   "source": [
    "#2.8.1 “Automatic” Reshaping\n",
    "import numpy as np\n",
    "a = np.arange(30)\n",
    "print(\"a:\\n\",a)\n",
    "a.shape = 2,-1,3 # -1 means \"whatever is needed\"\n",
    "print(\"shape :\\n\",a.shape)\n",
    "print(\"a:\\n\",a)\n"
   ]
  },
  {
   "cell_type": "code",
   "execution_count": 10,
   "metadata": {},
   "outputs": [
    {
     "name": "stdout",
     "output_type": "stream",
     "text": [
      "x:\n [0 2 4 6 8]\ny:\n [0 1 2 3 4]\nvstack:\n [[0 2 4 6 8]\n [0 1 2 3 4]]\nhstack:\n [0 2 4 6 8 0 1 2 3 4]\n"
     ]
    }
   ],
   "source": [
    "#2.8.2 Vector Stacking\n",
    "import numpy as np\n",
    "x = np.arange(0,10,2) # x=([0,2,4,6,8])\n",
    "print(\"x:\\n\",x)\n",
    "y = np.arange(5) # y=([0,1,2,3,4])\n",
    "print(\"y:\\n\",y)\n",
    "m = np.vstack([x,y]) # m=([[0,2,4,6,8], [0,1,2,3,4]])\n",
    "print(\"vstack:\\n\",m)\n",
    "xy = np.hstack([x,y]) # xy =([0,2,4,6,8,0,1,2,3,4])\n",
    "print(\"hstack:\\n\",xy)"
   ]
  },
  {
   "cell_type": "code",
   "execution_count": null,
   "metadata": {},
   "outputs": [
    {
     "data": {
      "text/plain": [
       "<Figure size 640x480 with 1 Axes>"
      ]
     },
     "execution_count": 0,
     "metadata": {},
     "output_type": "execute_result"
    },
    {
     "name": "stdout",
     "output_type": "stream",
     "text": [
      "=================================================\n"
     ]
    },
    {
     "data": {
      "text/plain": [
       "<Figure size 640x480 with 1 Axes>"
      ]
     },
     "execution_count": 0,
     "metadata": {},
     "output_type": "execute_result"
    }
   ],
   "source": [
    "import numpy as np\n",
    "import matplotlib.pyplot as plt\n",
    "# Build a vector of 10000 normal deviates with variance 0.5^2 and mean 2\n",
    "mu, sigma = 2, 0.5\n",
    "v = np.random.normal(mu,sigma,10000)\n",
    "# Plot a normalized histogram with 50 bins\n",
    "plt.hist(v, bins=50, density=1) # matplotlib version (plot)\n",
    "plt.show()\n",
    "print(\"=================================================\")\n",
    "# Compute the histogram with numpy and then plot it\n",
    "(n, bins) = np.histogram(v, bins=50, normed=True) # NumPy version (no plot)\n",
    "plt.plot(.5*(bins[1:]+bins[:-1]), n)\n",
    "plt.show()"
   ]
  },
  {
   "cell_type": "code",
   "execution_count": null,
   "metadata": {},
   "outputs": [],
   "source": []
  }
 ],
 "metadata": {
  "kernelspec": {
   "display_name": "Python 2",
   "language": "python",
   "name": "python2"
  },
  "language_info": {
   "codemirror_mode": {
    "name": "ipython",
    "version": 2
   },
   "file_extension": ".py",
   "mimetype": "text/x-python",
   "name": "python",
   "nbconvert_exporter": "python",
   "pygments_lexer": "ipython2",
   "version": "2.7.6"
  }
 },
 "nbformat": 4,
 "nbformat_minor": 0
}
